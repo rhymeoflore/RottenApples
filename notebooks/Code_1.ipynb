{
  "nbformat": 4,
  "nbformat_minor": 0,
  "metadata": {
    "colab": {
      "name": "Code-1.ipynb",
      "provenance": [],
      "collapsed_sections": [],
      "machine_shape": "hm"
    },
    "kernelspec": {
      "name": "python3",
      "display_name": "Python 3"
    }
  },
  "cells": [
    {
      "cell_type": "code",
      "metadata": {
        "id": "SXoRfe2AZsNr",
        "colab_type": "code",
        "outputId": "4d9779f6-fdf3-4e0c-da21-f9f2c5b61843",
        "colab": {
          "base_uri": "https://localhost:8080/",
          "height": 83
        }
      },
      "source": [
        "from glob import glob\n",
        "from keras.preprocessing.image import ImageDataGenerator\n"
      ],
      "execution_count": 0,
      "outputs": [
        {
          "output_type": "stream",
          "text": [
            "Using TensorFlow backend.\n"
          ],
          "name": "stderr"
        },
        {
          "output_type": "display_data",
          "data": {
            "text/html": [
              "<p style=\"color: red;\">\n",
              "The default version of TensorFlow in Colab will soon switch to TensorFlow 2.x.<br>\n",
              "We recommend you <a href=\"https://www.tensorflow.org/guide/migrate\" target=\"_blank\">upgrade</a> now \n",
              "or ensure your notebook will continue to use TensorFlow 1.x via the <code>%tensorflow_version 1.x</code> magic:\n",
              "<a href=\"https://colab.research.google.com/notebooks/tensorflow_version.ipynb\" target=\"_blank\">more info</a>.</p>\n"
            ],
            "text/plain": [
              "<IPython.core.display.HTML object>"
            ]
          },
          "metadata": {
            "tags": []
          }
        }
      ]
    },
    {
      "cell_type": "code",
      "metadata": {
        "id": "HWWDLbbeaZ3f",
        "colab_type": "code",
        "outputId": "bfb9e617-c8db-4197-cb77-58b73fe8973b",
        "colab": {
          "base_uri": "https://localhost:8080/",
          "height": 35
        }
      },
      "source": [
        "from google.colab import drive\n",
        "drive.mount('/content/drive')"
      ],
      "execution_count": 0,
      "outputs": [
        {
          "output_type": "stream",
          "text": [
            "Drive already mounted at /content/drive; to attempt to forcibly remount, call drive.mount(\"/content/drive\", force_remount=True).\n"
          ],
          "name": "stdout"
        }
      ]
    },
    {
      "cell_type": "code",
      "metadata": {
        "id": "kUWmYlugZuG-",
        "colab_type": "code",
        "colab": {}
      },
      "source": [
        "import numpy as np\n",
        "import matplotlib.pyplot as plt"
      ],
      "execution_count": 0,
      "outputs": []
    },
    {
      "cell_type": "code",
      "metadata": {
        "id": "gyYS3vy-aZBL",
        "colab_type": "code",
        "outputId": "be971e23-9e20-4170-f410-c501172b8c9d",
        "colab": {
          "base_uri": "https://localhost:8080/",
          "height": 54
        }
      },
      "source": [
        "data=ImageDataGenerator()\n",
        "\n",
        "train = data.flow_from_directory('/content/drive/My Drive/CDAC Project/Dataset/Train/', class_mode= 'binary', batch_size = 128)\n",
        "test = data.flow_from_directory('/content/drive/My Drive/CDAC Project/Dataset/Test/', class_mode = 'binary', batch_size = 128)"
      ],
      "execution_count": 0,
      "outputs": [
        {
          "output_type": "stream",
          "text": [
            "Found 4620 images belonging to 2 classes.\n",
            "Found 1375 images belonging to 2 classes.\n"
          ],
          "name": "stdout"
        }
      ]
    },
    {
      "cell_type": "code",
      "metadata": {
        "id": "bmglrVN8aSma",
        "colab_type": "code",
        "outputId": "8fae0d16-fec0-41b3-ad7c-b5108ea5c99b",
        "colab": {
          "base_uri": "https://localhost:8080/",
          "height": 54
        }
      },
      "source": [
        "print(train.image_shape)\n",
        "print(test.image_shape)\n",
        "\n"
      ],
      "execution_count": 0,
      "outputs": [
        {
          "output_type": "stream",
          "text": [
            "(256, 256, 3)\n",
            "(256, 256, 3)\n"
          ],
          "name": "stdout"
        }
      ]
    },
    {
      "cell_type": "code",
      "metadata": {
        "id": "Oz92U8z0dYTY",
        "colab_type": "code",
        "colab": {}
      },
      "source": [
        "train_x, train_y = train.next()   \n"
      ],
      "execution_count": 0,
      "outputs": []
    },
    {
      "cell_type": "code",
      "metadata": {
        "id": "HyDAjHv_dYW_",
        "colab_type": "code",
        "outputId": "0cd189fe-6974-48d6-fb51-b8541203dbf3",
        "colab": {
          "base_uri": "https://localhost:8080/",
          "height": 54
        }
      },
      "source": [
        "print('Batch shape=%s, min=%.3f, max=%.3f' % (train_x.shape, train_x.min(), train_x.max()))\n",
        "print('Batch shape=%s, min=%.3f, max=%.3f' % (train_y.shape, train_y.min(), train_y.max()))"
      ],
      "execution_count": 0,
      "outputs": [
        {
          "output_type": "stream",
          "text": [
            "Batch shape=(128, 256, 256, 3), min=0.000, max=255.000\n",
            "Batch shape=(128,), min=0.000, max=1.000\n"
          ],
          "name": "stdout"
        }
      ]
    },
    {
      "cell_type": "code",
      "metadata": {
        "id": "mADvDwy3dYg5",
        "colab_type": "code",
        "colab": {}
      },
      "source": [
        "test_x, test_y = test.next()\n"
      ],
      "execution_count": 0,
      "outputs": []
    },
    {
      "cell_type": "code",
      "metadata": {
        "id": "GopyJgPIiRyP",
        "colab_type": "code",
        "outputId": "900fe896-a32b-4b4d-cd83-d7e90995d499",
        "colab": {
          "base_uri": "https://localhost:8080/",
          "height": 54
        }
      },
      "source": [
        "print('Batch shape=%s, min=%.3f, max=%.3f' % (test_x.shape, test_x.min(), test_x.max()))\n",
        "print('Batch shape=%s, min=%.3f, max=%.3f' % (test_y.shape, test_y.min(), test_y.max()))"
      ],
      "execution_count": 0,
      "outputs": [
        {
          "output_type": "stream",
          "text": [
            "Batch shape=(128, 256, 256, 3), min=0.000, max=255.000\n",
            "Batch shape=(128,), min=0.000, max=1.000\n"
          ],
          "name": "stdout"
        }
      ]
    },
    {
      "cell_type": "code",
      "metadata": {
        "id": "z3O6Swy2Z6Y2",
        "colab_type": "code",
        "colab": {}
      },
      "source": [
        "from keras.models import Sequential\n",
        "from keras import optimizers\n",
        "from keras.layers import Dense, Activation, Flatten, Conv2D, MaxPooling2D\n",
        "from keras.layers import BatchNormalization, Dropout"
      ],
      "execution_count": 0,
      "outputs": []
    },
    {
      "cell_type": "code",
      "metadata": {
        "id": "kA7YGsqSaMo4",
        "colab_type": "code",
        "colab": {}
      },
      "source": [
        "input_shape = (256, 256, 3)\n",
        "\n",
        "model = Sequential()\n",
        "\n",
        "model.add(Conv2D(input_shape = input_shape, filters = 50, kernel_size = (3,3), strides = (1,1), padding = 'same', kernel_initializer='he_normal'))\n",
        "\n",
        "model.add(BatchNormalization())\n",
        "model.add(Activation('relu'))\n",
        "model.add(Conv2D(filters = 50, kernel_size = (3,3), strides = (1,1), padding = 'same', kernel_initializer='he_normal'))\n",
        "model.add(Conv2D(filters = 25, kernel_size = (1,1), strides = (1,1), padding = 'valid', kernel_initializer='he_normal'))\n",
        "model.add(BatchNormalization())\n",
        "model.add(Activation('relu'))\n",
        "model.add(MaxPooling2D(pool_size = (2,2)))\n",
        "model.add(Conv2D(filters = 50, kernel_size = (3,3), strides = (1,1), padding = 'same', kernel_initializer='he_normal'))\n",
        "model.add(Conv2D(filters = 25, kernel_size = (1,1), strides = (1,1), padding = 'valid', kernel_initializer='he_normal'))\n",
        "model.add(BatchNormalization())\n",
        "model.add(Activation('relu'))\n",
        "model.add(Conv2D(filters = 50, kernel_size = (3,3), strides = (1,1), padding = 'same', kernel_initializer='he_normal'))\n",
        "model.add(Conv2D(filters = 25, kernel_size = (1,1), strides = (1,1), padding = 'valid', kernel_initializer='he_normal'))\n",
        "model.add(BatchNormalization())\n",
        "model.add(Activation('relu'))\n",
        "model.add(MaxPooling2D(pool_size = (2,2)))\n",
        "model.add(Conv2D(filters = 50, kernel_size = (3,3), strides = (1,1), padding = 'same', kernel_initializer='he_normal'))\n",
        "model.add(Conv2D(filters = 25, kernel_size = (1,1), strides = (1,1), padding = 'valid', kernel_initializer='he_normal'))\n",
        "model.add(BatchNormalization())\n",
        "model.add(Activation('relu'))\n",
        "model.add(Conv2D(filters = 50, kernel_size = (3,3), strides = (1,1), padding = 'same', kernel_initializer='he_normal'))\n",
        "model.add(Conv2D(filters = 25, kernel_size = (1,1), strides = (1,1), padding = 'valid', kernel_initializer='he_normal'))\n",
        "model.add(BatchNormalization())\n",
        "model.add(Activation('relu'))\n",
        "model.add(MaxPooling2D(pool_size = (2,2)))\n",
        "\n",
        "\n",
        "model.add(Flatten())\n",
        "model.add(Dense(128, activation='relu'))\n",
        "model.add(Dropout(0.5))\n",
        "model.add(Dense(2, activation='softmax'))"
      ],
      "execution_count": 0,
      "outputs": []
    },
    {
      "cell_type": "code",
      "metadata": {
        "id": "7zoDdMC-f3rz",
        "colab_type": "code",
        "colab": {}
      },
      "source": [
        "model.compile(optimizer='adam', loss='sparse_categorical_crossentropy', metrics=['accuracy'])"
      ],
      "execution_count": 0,
      "outputs": []
    },
    {
      "cell_type": "code",
      "metadata": {
        "id": "0t9rd_eZgMvu",
        "colab_type": "code",
        "outputId": "49452703-6c24-455e-f801-a56acbe2bae5",
        "colab": {
          "base_uri": "https://localhost:8080/",
          "height": 1000
        }
      },
      "source": [
        "model.fit(train_x, train_y, batch_size = 128, epochs = 50, verbose = 1)"
      ],
      "execution_count": 0,
      "outputs": [
        {
          "output_type": "stream",
          "text": [
            "Epoch 1/50\n",
            "128/128 [==============================] - 46s 358ms/step - loss: 2.4785 - acc: 0.6328\n",
            "Epoch 2/50\n",
            "128/128 [==============================] - 46s 359ms/step - loss: 7.0026 - acc: 0.5000\n",
            "Epoch 3/50\n",
            "128/128 [==============================] - 45s 354ms/step - loss: 1.6378 - acc: 0.8125\n",
            "Epoch 4/50\n",
            "128/128 [==============================] - 45s 353ms/step - loss: 2.4830 - acc: 0.7656\n",
            "Epoch 5/50\n",
            "128/128 [==============================] - 45s 354ms/step - loss: 1.2924 - acc: 0.8516\n",
            "Epoch 6/50\n",
            "128/128 [==============================] - 45s 355ms/step - loss: 1.4852 - acc: 0.8438\n",
            "Epoch 7/50\n",
            "128/128 [==============================] - 46s 357ms/step - loss: 1.0038 - acc: 0.8984\n",
            "Epoch 8/50\n",
            "128/128 [==============================] - 46s 358ms/step - loss: 1.7073 - acc: 0.8281\n",
            "Epoch 9/50\n",
            "128/128 [==============================] - 46s 356ms/step - loss: 0.8874 - acc: 0.9141\n",
            "Epoch 10/50\n",
            "128/128 [==============================] - 45s 352ms/step - loss: 0.8481 - acc: 0.9219\n",
            "Epoch 11/50\n",
            "128/128 [==============================] - 45s 355ms/step - loss: 0.9202 - acc: 0.9219\n",
            "Epoch 12/50\n",
            "128/128 [==============================] - 45s 352ms/step - loss: 0.7211 - acc: 0.9453\n",
            "Epoch 13/50\n",
            "128/128 [==============================] - 46s 356ms/step - loss: 0.3667 - acc: 0.9609\n",
            "Epoch 14/50\n",
            "128/128 [==============================] - 46s 357ms/step - loss: 0.6758 - acc: 0.9219\n",
            "Epoch 15/50\n",
            "128/128 [==============================] - 46s 357ms/step - loss: 0.4814 - acc: 0.9375\n",
            "Epoch 16/50\n",
            "128/128 [==============================] - 45s 355ms/step - loss: 0.8681 - acc: 0.9062\n",
            "Epoch 17/50\n",
            "128/128 [==============================] - 46s 356ms/step - loss: 0.4189 - acc: 0.9531\n",
            "Epoch 18/50\n",
            "128/128 [==============================] - 45s 355ms/step - loss: 0.5555 - acc: 0.9453\n",
            "Epoch 19/50\n",
            "128/128 [==============================] - 45s 355ms/step - loss: 0.2103 - acc: 0.9766\n",
            "Epoch 20/50\n",
            "128/128 [==============================] - 45s 355ms/step - loss: 0.2771 - acc: 0.9531\n",
            "Epoch 21/50\n",
            "128/128 [==============================] - 46s 356ms/step - loss: 0.2649 - acc: 0.9609\n",
            "Epoch 22/50\n",
            "128/128 [==============================] - 45s 354ms/step - loss: 0.2597 - acc: 0.9609\n",
            "Epoch 23/50\n",
            "128/128 [==============================] - 45s 354ms/step - loss: 0.2071 - acc: 0.9688\n",
            "Epoch 24/50\n",
            "128/128 [==============================] - 45s 353ms/step - loss: 0.1467 - acc: 0.9766\n",
            "Epoch 25/50\n",
            "128/128 [==============================] - 45s 355ms/step - loss: 0.1797 - acc: 0.9609\n",
            "Epoch 26/50\n",
            "128/128 [==============================] - 45s 354ms/step - loss: 0.1382 - acc: 0.9844\n",
            "Epoch 27/50\n",
            "128/128 [==============================] - 45s 355ms/step - loss: 0.1562 - acc: 0.9844\n",
            "Epoch 28/50\n",
            "128/128 [==============================] - 46s 357ms/step - loss: 0.1411 - acc: 0.9844\n",
            "Epoch 29/50\n",
            "128/128 [==============================] - 45s 353ms/step - loss: 0.1595 - acc: 0.9844\n",
            "Epoch 30/50\n",
            "128/128 [==============================] - 45s 351ms/step - loss: 0.1728 - acc: 0.9844\n",
            "Epoch 31/50\n",
            "128/128 [==============================] - 45s 354ms/step - loss: 0.1302 - acc: 0.9922\n",
            "Epoch 32/50\n",
            "128/128 [==============================] - 45s 354ms/step - loss: 0.1485 - acc: 0.9766\n",
            "Epoch 33/50\n",
            "128/128 [==============================] - 45s 355ms/step - loss: 0.1410 - acc: 0.9844\n",
            "Epoch 34/50\n",
            "128/128 [==============================] - 46s 357ms/step - loss: 0.1333 - acc: 0.9922\n",
            "Epoch 35/50\n",
            "128/128 [==============================] - 45s 355ms/step - loss: 0.1315 - acc: 0.9922\n",
            "Epoch 36/50\n",
            "128/128 [==============================] - 45s 354ms/step - loss: 0.1967 - acc: 0.9688\n",
            "Epoch 37/50\n",
            "128/128 [==============================] - 45s 353ms/step - loss: 0.1440 - acc: 0.9766\n",
            "Epoch 38/50\n",
            "128/128 [==============================] - 45s 353ms/step - loss: 0.1532 - acc: 0.9844\n",
            "Epoch 39/50\n",
            "128/128 [==============================] - 45s 353ms/step - loss: 0.1280 - acc: 0.9922\n",
            "Epoch 40/50\n",
            "128/128 [==============================] - 45s 351ms/step - loss: 0.1285 - acc: 0.9922\n",
            "Epoch 41/50\n",
            "128/128 [==============================] - 46s 357ms/step - loss: 0.1293 - acc: 0.9922\n",
            "Epoch 42/50\n",
            "128/128 [==============================] - 46s 357ms/step - loss: 0.1292 - acc: 0.9922\n",
            "Epoch 43/50\n",
            "128/128 [==============================] - 45s 354ms/step - loss: 0.1298 - acc: 0.9922\n",
            "Epoch 44/50\n",
            "128/128 [==============================] - 45s 350ms/step - loss: 0.1275 - acc: 0.9922\n",
            "Epoch 45/50\n",
            "128/128 [==============================] - 45s 354ms/step - loss: 0.1351 - acc: 0.9844\n",
            "Epoch 46/50\n",
            "128/128 [==============================] - 45s 353ms/step - loss: 0.1280 - acc: 0.9922\n",
            "Epoch 47/50\n",
            "128/128 [==============================] - 45s 355ms/step - loss: 0.1272 - acc: 0.9922\n",
            "Epoch 48/50\n",
            "128/128 [==============================] - 46s 358ms/step - loss: 0.1279 - acc: 0.9922\n",
            "Epoch 49/50\n",
            "128/128 [==============================] - 46s 359ms/step - loss: 0.1279 - acc: 0.9922\n",
            "Epoch 50/50\n",
            "128/128 [==============================] - 45s 352ms/step - loss: 0.1264 - acc: 0.9922\n"
          ],
          "name": "stdout"
        },
        {
          "output_type": "execute_result",
          "data": {
            "text/plain": [
              "<keras.callbacks.History at 0x7fefb1fa2358>"
            ]
          },
          "metadata": {
            "tags": []
          },
          "execution_count": 17
        }
      ]
    },
    {
      "cell_type": "code",
      "metadata": {
        "id": "CR7PbsVZgYXA",
        "colab_type": "code",
        "outputId": "e82fcdba-aff0-4a66-e7b7-f1d8af7d5a29",
        "colab": {
          "base_uri": "https://localhost:8080/",
          "height": 54
        }
      },
      "source": [
        "model.evaluate(test_x, test_y)"
      ],
      "execution_count": 0,
      "outputs": [
        {
          "output_type": "stream",
          "text": [
            "128/128 [==============================] - 14s 111ms/step\n"
          ],
          "name": "stdout"
        },
        {
          "output_type": "execute_result",
          "data": {
            "text/plain": [
              "[2.3611531853675842, 0.734375]"
            ]
          },
          "metadata": {
            "tags": []
          },
          "execution_count": 23
        }
      ]
    },
    {
      "cell_type": "code",
      "metadata": {
        "id": "LwhPrc7k3HkI",
        "colab_type": "code",
        "colab": {}
      },
      "source": [
        ""
      ],
      "execution_count": 0,
      "outputs": []
    }
  ]
}